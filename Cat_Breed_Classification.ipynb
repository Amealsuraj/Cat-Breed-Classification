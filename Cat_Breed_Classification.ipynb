{
  "nbformat": 4,
  "nbformat_minor": 0,
  "metadata": {
    "accelerator": "GPU",
    "colab": {
      "name": "Untitled0.ipynb",
      "provenance": [],
      "collapsed_sections": [],
      "machine_shape": "hm",
      "mount_file_id": "1WkNip8G61CFMum2LEgTryF3iC3P8BQT6",
      "authorship_tag": "ABX9TyOZN2Isy92Ro80Blu+J/OAv",
      "include_colab_link": true
    },
    "kernelspec": {
      "display_name": "Python 3",
      "name": "python3"
    },
    "language_info": {
      "name": "python"
    }
  },
  "cells": [
    {
      "cell_type": "markdown",
      "metadata": {
        "id": "view-in-github",
        "colab_type": "text"
      },
      "source": [
        "<a href=\"https://colab.research.google.com/github/Amealsuraj/Cat-Breed-Classification/blob/main/Cat_Breed_Classification.ipynb\" target=\"_parent\"><img src=\"https://colab.research.google.com/assets/colab-badge.svg\" alt=\"Open In Colab\"/></a>"
      ]
    },
    {
      "cell_type": "code",
      "metadata": {
        "id": "wrFGgfgZYwzf"
      },
      "source": [
        "import os"
      ],
      "execution_count": 27,
      "outputs": []
    },
    {
      "cell_type": "code",
      "metadata": {
        "colab": {
          "base_uri": "https://localhost:8080/",
          "height": 36
        },
        "id": "gSa0MDF-Yz5b",
        "outputId": "e1389f45-8403-4d48-cdb0-c27397759aee"
      },
      "source": [
        "os.getcwd()"
      ],
      "execution_count": 28,
      "outputs": [
        {
          "output_type": "execute_result",
          "data": {
            "application/vnd.google.colaboratory.intrinsic+json": {
              "type": "string"
            },
            "text/plain": [
              "'/content/drive/My Drive/Totallity'"
            ]
          },
          "metadata": {
            "tags": []
          },
          "execution_count": 28
        }
      ]
    },
    {
      "cell_type": "code",
      "metadata": {
        "colab": {
          "base_uri": "https://localhost:8080/"
        },
        "id": "HL00O1mpY8D1",
        "outputId": "c8a602be-49b3-4488-fb01-cf453b66e556"
      },
      "source": [
        "cd /content/drive/MyDrive/Totallity"
      ],
      "execution_count": 29,
      "outputs": [
        {
          "output_type": "stream",
          "text": [
            "/content/drive/MyDrive/Totallity\n"
          ],
          "name": "stdout"
        }
      ]
    },
    {
      "cell_type": "code",
      "metadata": {
        "id": "c2mkeAX5pj0M"
      },
      "source": [
        "#%rm -rf /content/drive/MyDrive/Totallity/data"
      ],
      "execution_count": null,
      "outputs": []
    },
    {
      "cell_type": "code",
      "metadata": {
        "id": "mXZfdtuUDlHe"
      },
      "source": [
        "#!zip -r /content/drive/MyDrive/Totallity/test.zip  /content/drive/MyDrive/Totallity/test"
      ],
      "execution_count": null,
      "outputs": []
    },
    {
      "cell_type": "markdown",
      "metadata": {
        "id": "WxLOj6Hoqajk"
      },
      "source": [
        "**Downloading Data from kaggle**"
      ]
    },
    {
      "cell_type": "code",
      "metadata": {
        "colab": {
          "base_uri": "https://localhost:8080/"
        },
        "id": "j8nVSe9gqU1w",
        "outputId": "d25f3280-4300-4a6f-8c90-56fad4c85756"
      },
      "source": [
        "!pip install -q kaggle\n",
        "!mkdir -p ~/.kaggle\n",
        "!cp kaggle.json ~/.kaggle/\n",
        "!ls ~/.kaggle\n",
        "!chmod 600 /root/.kaggle/kaggle.json"
      ],
      "execution_count": null,
      "outputs": [
        {
          "output_type": "stream",
          "text": [
            "kaggle.json\n"
          ],
          "name": "stdout"
        }
      ]
    },
    {
      "cell_type": "code",
      "metadata": {
        "colab": {
          "base_uri": "https://localhost:8080/"
        },
        "id": "xm9ddISQZnWp",
        "outputId": "a8524182-020c-4a84-be6a-d1e832d3468c"
      },
      "source": [
        "!kaggle datasets download -d ma7555/cat-breeds-dataset"
      ],
      "execution_count": null,
      "outputs": [
        {
          "output_type": "stream",
          "text": [
            "Downloading cat-breeds-dataset.zip to /content/drive/My Drive/Totallity\n",
            "100% 1.93G/1.93G [00:30<00:00, 51.6MB/s]\n",
            "100% 1.93G/1.93G [00:30<00:00, 66.8MB/s]\n"
          ],
          "name": "stdout"
        }
      ]
    },
    {
      "cell_type": "code",
      "metadata": {
        "id": "re7BvM1L-IZ3"
      },
      "source": [
        "#!unzip /content/drive/MyDrive/Totallity/cat-breeds-dataset.zip"
      ],
      "execution_count": null,
      "outputs": []
    },
    {
      "cell_type": "code",
      "metadata": {
        "colab": {
          "base_uri": "https://localhost:8080/"
        },
        "id": "o4CLrX1670Uw",
        "outputId": "27fe6005-b908-4ae2-9f3e-2f45b2a03a60"
      },
      "source": [
        "classes"
      ],
      "execution_count": null,
      "outputs": [
        {
          "output_type": "execute_result",
          "data": {
            "text/plain": [
              "['Bombay',\n",
              " 'British Shorthair',\n",
              " 'Burmese',\n",
              " 'Calico',\n",
              " 'Dilute Calico',\n",
              " 'Himalayan',\n",
              " 'Munchkin',\n",
              " 'Ragdoll',\n",
              " 'Russian Blue',\n",
              " 'Siberian']"
            ]
          },
          "metadata": {
            "tags": []
          },
          "execution_count": 8
        }
      ]
    },
    {
      "cell_type": "code",
      "metadata": {
        "id": "1oNpQIeBMIhj"
      },
      "source": [
        "l =os.listdir('/content/drive/MyDrive/Totallity/images')"
      ],
      "execution_count": null,
      "outputs": []
    },
    {
      "cell_type": "code",
      "metadata": {
        "id": "WtfPDwXVEbW7"
      },
      "source": [
        "remove_list=[]\n",
        "for i in l:\n",
        "    if i not in classes:\n",
        "          remove_list.append('/content/drive/MyDrive/Totallity/images/' + i )"
      ],
      "execution_count": null,
      "outputs": []
    },
    {
      "cell_type": "markdown",
      "metadata": {
        "id": "C5qH8YE8q1rq"
      },
      "source": [
        "**Removing folders in images**"
      ]
    },
    {
      "cell_type": "code",
      "metadata": {
        "id": "JDMm61mYhJYs"
      },
      "source": [
        "from pathlib import Path\n",
        "import shutil\n",
        "for i in remove_list:\n",
        "      dir_path =Path(i)\n",
        "      shutil.rmtree(dir_path)"
      ],
      "execution_count": null,
      "outputs": []
    },
    {
      "cell_type": "markdown",
      "metadata": {
        "id": "douhJ9eEc6oz"
      },
      "source": [
        " **Importing the required libraries**"
      ]
    },
    {
      "cell_type": "code",
      "metadata": {
        "id": "HHQHQCGCc4U7"
      },
      "source": [
        "import numpy as np\n",
        "import pandas as pd\n",
        "import tensorflow as tf\n",
        "from tensorflow. keras.preprocessing.image import load_img,img_to_array\n",
        "import tensorflow.keras.backend as K\n",
        "from tensorflow. keras.preprocessing.image import ImageDataGenerator\n",
        "import os\n",
        "from tensorflow. keras.models import Sequential,Model,save_model,load_model\n",
        "from tensorflow. keras.layers import Conv2D,Dense,Flatten;\n",
        "from tensorflow. keras.regularizers import l2\n",
        "from tensorflow. keras.optimizers import Adam\n",
        "from sklearn.metrics import accuracy_score,f1_score,roc_curve,roc_auc_score\n",
        "import matplotlib.pyplot as plt\n",
        "%matplotlib inline"
      ],
      "execution_count": 30,
      "outputs": []
    },
    {
      "cell_type": "markdown",
      "metadata": {
        "id": "qa3d-9ij9ixz"
      },
      "source": [
        "**Printing Number of Images of Each Class**"
      ]
    },
    {
      "cell_type": "code",
      "metadata": {
        "id": "7-7CjWAy9YoB"
      },
      "source": [
        "classes=[\"Bombay\", \"Calico\", \"Burmese\", \"Himalayan\",\"Munchkin\", \"Ragdoll\", \"Siberian\", \"British Shorthair\", \"Russian Blue\", \"Dilute Calico\"]"
      ],
      "execution_count": 31,
      "outputs": []
    },
    {
      "cell_type": "code",
      "metadata": {
        "id": "lH_Ynqbrp9WP"
      },
      "source": [
        "classes.sort()"
      ],
      "execution_count": 32,
      "outputs": []
    },
    {
      "cell_type": "code",
      "metadata": {
        "colab": {
          "base_uri": "https://localhost:8080/"
        },
        "id": "n_mZj4dqmkll",
        "outputId": "4000f052-9781-4116-ca66-114c9c9ca4c2"
      },
      "source": [
        "classes_list=[]\n",
        "for i in os.listdir('/content/drive/MyDrive/Totallity/images'):\n",
        "    if i  in classes:\n",
        "          classes_list.append('/content/drive/MyDrive/Totallity/images/' + i )\n",
        "from pathlib import Path\n",
        "for i,class_name in zip(classes_list,classes):\n",
        "      dir_path =Path(i)\n",
        "      print(class_name+\":{}\".format(len(os.listdir(i))))"
      ],
      "execution_count": 33,
      "outputs": [
        {
          "output_type": "stream",
          "text": [
            "Bombay:1835\n",
            "British Shorthair:567\n",
            "Burmese:344\n",
            "Calico:3468\n",
            "Dilute Calico:3230\n",
            "Himalayan:1301\n",
            "Munchkin:181\n",
            "Ragdoll:2669\n",
            "Russian Blue:1870\n",
            "Siberian:189\n"
          ],
          "name": "stdout"
        }
      ]
    },
    {
      "cell_type": "code",
      "metadata": {
        "id": "IrTVaBmWpCQK"
      },
      "source": [
        "my_dir = \"/content/drive/MyDrive/Totallity/images/Bombay\"\n",
        "for fname in os.listdir(my_dir):\n",
        "    if fname.startswith(\"aug\"):\n",
        "        os.remove(os.path.join(my_dir, fname))"
      ],
      "execution_count": 55,
      "outputs": []
    },
    {
      "cell_type": "code",
      "metadata": {
        "colab": {
          "base_uri": "https://localhost:8080/"
        },
        "id": "u2u-2oEtojsB",
        "outputId": "0de940de-d88d-49e3-f57d-046880d501e8"
      },
      "source": [
        "classes_list=[]\n",
        "for i in os.listdir('/content/drive/MyDrive/Totallity/images'):\n",
        "    if i  in classes:\n",
        "          classes_list.append('/content/drive/MyDrive/Totallity/images/' + i )\n",
        "from pathlib import Path\n",
        "for i,class_name in zip(classes_list,classes):\n",
        "      dir_path =Path(i)\n",
        "      print(class_name+\":{}\".format(len(os.listdir(i))))"
      ],
      "execution_count": 56,
      "outputs": [
        {
          "output_type": "stream",
          "text": [
            "Bombay:1835\n",
            "British Shorthair:567\n",
            "Burmese:344\n",
            "Calico:3468\n",
            "Dilute Calico:3230\n",
            "Himalayan:1301\n",
            "Munchkin:181\n",
            "Ragdoll:2669\n",
            "Russian Blue:1870\n",
            "Siberian:189\n"
          ],
          "name": "stdout"
        }
      ]
    },
    {
      "cell_type": "markdown",
      "metadata": {
        "id": "9YNOqIhltapc"
      },
      "source": [
        "**The dataset is imbalanced. So we can use over sample the data of minority class by data augmentation.**"
      ]
    },
    {
      "cell_type": "code",
      "metadata": {
        "id": "Y4jAF5vqcupP"
      },
      "source": [
        "size_list=[1835,567,344,3468,3230,1301,181,2669,1870,189]\n",
        "factor =[]\n",
        "for i in size_list:\n",
        "  factor.append(np.round(3468/i))"
      ],
      "execution_count": 34,
      "outputs": []
    },
    {
      "cell_type": "code",
      "metadata": {
        "colab": {
          "base_uri": "https://localhost:8080/"
        },
        "id": "lb9vS2QFdwL6",
        "outputId": "ac7f7d17-035f-4199-ab43-f4b90b87386b"
      },
      "source": [
        "factor"
      ],
      "execution_count": 43,
      "outputs": [
        {
          "output_type": "execute_result",
          "data": {
            "text/plain": [
              "[2.0, 6.0, 10.0, 1.0, 1.0, 3.0, 19.0, 1.0, 2.0, 18.0]"
            ]
          },
          "metadata": {
            "tags": []
          },
          "execution_count": 43
        }
      ]
    },
    {
      "cell_type": "code",
      "metadata": {
        "id": "GxbxvZzamHVx"
      },
      "source": [
        "%rm -rf /content/drive/MyDrive/Totallity/gen"
      ],
      "execution_count": 52,
      "outputs": []
    },
    {
      "cell_type": "code",
      "metadata": {
        "id": "9M4f7cCKttJY",
        "colab": {
          "base_uri": "https://localhost:8080/"
        },
        "outputId": "4234683e-ab98-438c-8223-ad922064876c"
      },
      "source": [
        "from keras.preprocessing.image import ImageDataGenerator, array_to_img, img_to_array, load_img\n",
        "\n",
        "datagen = ImageDataGenerator(\n",
        "        rotation_range=40,\n",
        "        width_shift_range=0.2,\n",
        "        height_shift_range=0.2,\n",
        "        shear_range=0.2,\n",
        "        zoom_range=0.2,\n",
        "        horizontal_flip=True,\n",
        "        fill_mode='nearest')\n",
        "no_datagen = ImageDataGenerator(\n",
        "              rescale=1/1)\n",
        "class_dir =\"/content/drive/MyDrive/Totallity/images/\"\n",
        "gen_dir =\"/content/drive/MyDrive/Totallity/gen/\"\n",
        "\n",
        "for factr,cls_name in zip(factor,os.listdir(class_dir)):\n",
        "      print(factr)\n",
        "      if not os.path.exists(gen_dir+ cls_name):\n",
        "        os.makedirs(gen_dir + cls_name)\n",
        "      if not os.path.exists(gen_dir+ cls_name):\n",
        "        os.makedirs(gen_dir + cls_name)  \n",
        "      img_dir =class_dir +cls_name+\"/\"\n",
        "      save_dir = gen_dir + cls_name+\"/\"\n",
        "      for img_name in os.listdir(img_dir):\n",
        "          img = load_img(img_dir+img_name)  \n",
        "          x = img_to_array(img)  \n",
        "          x = x.reshape((1,) + x.shape)\n",
        "          i = 0\n",
        "          if factr ==1:\n",
        "              for batch in no_datagen.flow(x, batch_size=64,save_to_dir=save_dir, save_prefix=img_name, save_format='png'):\n",
        "                  break\n",
        "          else:\n",
        "               for batch in datagen.flow(x, batch_size=64,save_to_dir=save_dir, save_prefix='aug'+img_name, save_format='png'):\n",
        "                   i = i+ 1\n",
        "                   #print(i)\n",
        "                   if i > factr-1:\n",
        "                        break  # otherwise the generator would loop indefinitely"
      ],
      "execution_count": null,
      "outputs": [
        {
          "output_type": "stream",
          "text": [
            "2.0\n",
            "6.0\n",
            "10.0\n",
            "1.0\n"
          ],
          "name": "stdout"
        }
      ]
    },
    {
      "cell_type": "markdown",
      "metadata": {
        "id": "Fs4nUkUI9NrY"
      },
      "source": [
        "**Splitting Images folder into train and test folder**"
      ]
    },
    {
      "cell_type": "code",
      "metadata": {
        "colab": {
          "base_uri": "https://localhost:8080/",
          "height": 371
        },
        "id": "tJXUuSCmk3WA",
        "outputId": "c2c96c90-c91a-46f4-8777-4b9a5e58d702"
      },
      "source": [
        "import os\n",
        "import numpy as np\n",
        "import shutil\n",
        "import random\n",
        " \n",
        "# # Creating Train /Test folders (One time use)\n",
        "root_dir = '/content/drive/MyDrive/Totallity/'\n",
        "classes_dir = os.listdir('/content/drive/MyDrive/Totallity/images')\n",
        " \n",
        "test_ratio = 0.25\n",
        " \n",
        "for cls in classes_dir:\n",
        "    os.makedirs(root_dir +'/train/' + cls)\n",
        "    os.makedirs(root_dir +'/test/' + cls)\n",
        " \n",
        " \n",
        "    # Creating partitions of the data after shuffeling\n",
        "    src = root_dir +'/images/'+ cls # Folder to copy images from\n",
        " \n",
        "    allFileNames = os.listdir(src)\n",
        "    np.random.shuffle(allFileNames)\n",
        "    train_FileNames, test_FileNames = np.split(np.array(allFileNames),\n",
        "                                                              [int(len(allFileNames)* (1-test_ratio))])\n",
        " \n",
        " \n",
        "    train_FileNames = [src+'/'+ name for name in train_FileNames.tolist()]\n",
        " \n",
        "    test_FileNames = [src+'/' + name for name in test_FileNames.tolist()]\n",
        " \n",
        "    print('Total images: ', len(allFileNames))\n",
        "    print('Training: ', len(train_FileNames))\n",
        "    print('Testing: ', len(test_FileNames))\n",
        " \n",
        "    # Copy-pasting images\n",
        "    for name in train_FileNames:\n",
        "        shutil.copy(name, root_dir +'/train/' + cls)\n",
        " \n",
        "    for name in test_FileNames:\n",
        "        shutil.copy(name, root_dir +'/test/' + cls)"
      ],
      "execution_count": null,
      "outputs": [
        {
          "output_type": "error",
          "ename": "FileExistsError",
          "evalue": "ignored",
          "traceback": [
            "\u001b[0;31m---------------------------------------------------------------------------\u001b[0m",
            "\u001b[0;31mFileExistsError\u001b[0m                           Traceback (most recent call last)",
            "\u001b[0;32m<ipython-input-55-04dfbe860cd4>\u001b[0m in \u001b[0;36m<module>\u001b[0;34m()\u001b[0m\n\u001b[1;32m     11\u001b[0m \u001b[0;34m\u001b[0m\u001b[0m\n\u001b[1;32m     12\u001b[0m \u001b[0;32mfor\u001b[0m \u001b[0mcls\u001b[0m \u001b[0;32min\u001b[0m \u001b[0mclasses_dir\u001b[0m\u001b[0;34m:\u001b[0m\u001b[0;34m\u001b[0m\u001b[0;34m\u001b[0m\u001b[0m\n\u001b[0;32m---> 13\u001b[0;31m     \u001b[0mos\u001b[0m\u001b[0;34m.\u001b[0m\u001b[0mmakedirs\u001b[0m\u001b[0;34m(\u001b[0m\u001b[0mroot_dir\u001b[0m \u001b[0;34m+\u001b[0m\u001b[0;34m'/train/'\u001b[0m \u001b[0;34m+\u001b[0m \u001b[0mcls\u001b[0m\u001b[0;34m)\u001b[0m\u001b[0;34m\u001b[0m\u001b[0;34m\u001b[0m\u001b[0m\n\u001b[0m\u001b[1;32m     14\u001b[0m     \u001b[0mos\u001b[0m\u001b[0;34m.\u001b[0m\u001b[0mmakedirs\u001b[0m\u001b[0;34m(\u001b[0m\u001b[0mroot_dir\u001b[0m \u001b[0;34m+\u001b[0m\u001b[0;34m'/test/'\u001b[0m \u001b[0;34m+\u001b[0m \u001b[0mcls\u001b[0m\u001b[0;34m)\u001b[0m\u001b[0;34m\u001b[0m\u001b[0;34m\u001b[0m\u001b[0m\n\u001b[1;32m     15\u001b[0m \u001b[0;34m\u001b[0m\u001b[0m\n",
            "\u001b[0;32m/usr/lib/python3.7/os.py\u001b[0m in \u001b[0;36mmakedirs\u001b[0;34m(name, mode, exist_ok)\u001b[0m\n\u001b[1;32m    221\u001b[0m             \u001b[0;32mreturn\u001b[0m\u001b[0;34m\u001b[0m\u001b[0;34m\u001b[0m\u001b[0m\n\u001b[1;32m    222\u001b[0m     \u001b[0;32mtry\u001b[0m\u001b[0;34m:\u001b[0m\u001b[0;34m\u001b[0m\u001b[0;34m\u001b[0m\u001b[0m\n\u001b[0;32m--> 223\u001b[0;31m         \u001b[0mmkdir\u001b[0m\u001b[0;34m(\u001b[0m\u001b[0mname\u001b[0m\u001b[0;34m,\u001b[0m \u001b[0mmode\u001b[0m\u001b[0;34m)\u001b[0m\u001b[0;34m\u001b[0m\u001b[0;34m\u001b[0m\u001b[0m\n\u001b[0m\u001b[1;32m    224\u001b[0m     \u001b[0;32mexcept\u001b[0m \u001b[0mOSError\u001b[0m\u001b[0;34m:\u001b[0m\u001b[0;34m\u001b[0m\u001b[0;34m\u001b[0m\u001b[0m\n\u001b[1;32m    225\u001b[0m         \u001b[0;31m# Cannot rely on checking for EEXIST, since the operating system\u001b[0m\u001b[0;34m\u001b[0m\u001b[0;34m\u001b[0m\u001b[0;34m\u001b[0m\u001b[0m\n",
            "\u001b[0;31mFileExistsError\u001b[0m: [Errno 17] File exists: '/content/drive/MyDrive/Totallity//train/Bombay'"
          ]
        }
      ]
    },
    {
      "cell_type": "code",
      "metadata": {
        "colab": {
          "base_uri": "https://localhost:8080/"
        },
        "id": "sUj78N0j-2iQ",
        "outputId": "29c9a494-d946-4545-c091-166fa4e6f04e"
      },
      "source": [
        "train_datagen = ImageDataGenerator(\n",
        "              rescale=1./255)\n",
        "training_set = train_datagen.flow_from_directory('/content/drive/MyDrive/Totallity/train',\n",
        "                                                 target_size = (150,150),\n",
        "                                                 batch_size =64,\n",
        "                                                 class_mode = 'categorical')\n",
        "test_datagen = ImageDataGenerator(\n",
        "              rescale=1./255)\n",
        "testing_set = test_datagen.flow_from_directory('/content/drive/MyDrive/Totallity/test',\n",
        "                                                 target_size = (150,150),\n",
        "                                                 batch_size =64,\n",
        "                                                 class_mode = 'categorical')"
      ],
      "execution_count": null,
      "outputs": [
        {
          "output_type": "stream",
          "text": [
            "Found 11736 images belonging to 10 classes.\n"
          ],
          "name": "stdout"
        }
      ]
    },
    {
      "cell_type": "code",
      "metadata": {
        "colab": {
          "base_uri": "https://localhost:8080/"
        },
        "id": "_4Kou30PANu8",
        "outputId": "20c99da2-08f9-4251-d469-25bfb3050e1b"
      },
      "source": [
        " \n",
        "test_datagen = ImageDataGenerator(\n",
        "              rescale=1./255)\n",
        "testing_set = test_datagen.flow_from_directory('/content/drive/MyDrive/Totallity/test',\n",
        "                                                 target_size = (150,150),\n",
        "                                                 batch_size =64,\n",
        "                                                 class_mode = 'categorical')"
      ],
      "execution_count": null,
      "outputs": [
        {
          "output_type": "stream",
          "text": [
            "Found 3918 images belonging to 10 classes.\n"
          ],
          "name": "stdout"
        }
      ]
    },
    {
      "cell_type": "markdown",
      "metadata": {
        "id": "wO5_dmH9dNqY"
      },
      "source": [
        "**Inception Model**"
      ]
    },
    {
      "cell_type": "code",
      "metadata": {
        "id": "E99IqPZMbs3o"
      },
      "source": [
        "from tensorflow.keras.applications.inception_v3 import InceptionV3\n",
        "model = InceptionV3(input_shape = (150, 150, 3), include_top = False, weights = 'imagenet')"
      ],
      "execution_count": null,
      "outputs": []
    },
    {
      "cell_type": "markdown",
      "metadata": {
        "id": "JIXPtrD4dTzP"
      },
      "source": [
        "**Making layers non-trainable**"
      ]
    },
    {
      "cell_type": "code",
      "metadata": {
        "id": "hdMTfBitcWOy"
      },
      "source": [
        "for layer in model.layers:\n",
        "    layer.trainable = False"
      ],
      "execution_count": null,
      "outputs": []
    },
    {
      "cell_type": "markdown",
      "metadata": {
        "id": "YKoND7S3dffg"
      },
      "source": [
        "**Adding custom layers**"
      ]
    },
    {
      "cell_type": "code",
      "metadata": {
        "id": "XgxBF61WcWcl"
      },
      "source": [
        "x=Flatten()(model.output)\n",
        "x=Dense(units=1024,activation ='relu')(x)\n",
        "x=Dense(units=512,activation ='relu')(x)\n",
        "output =Dense(units=10,activation='softmax')(x)\n",
        "final_model =Model(inputs =model.input,outputs =output)\n",
        "final_model.compile(loss='categorical_crossentropy',optimizer= Adam(1e-5),metrics=['accuracy'])"
      ],
      "execution_count": null,
      "outputs": []
    },
    {
      "cell_type": "markdown",
      "metadata": {
        "id": "M37-EvsDdkvO"
      },
      "source": [
        "**Callback**"
      ]
    },
    {
      "cell_type": "code",
      "metadata": {
        "id": "MsKhccYkcc4R"
      },
      "source": [
        "callback=tf.keras.callbacks.EarlyStopping(\n",
        "    monitor=\"val_loss\",\n",
        "    min_delta=0,\n",
        "    patience=50,\n",
        "    verbose=0,\n",
        "    mode=\"min\",\n",
        "    restore_best_weights=False,\n",
        ")"
      ],
      "execution_count": null,
      "outputs": []
    },
    {
      "cell_type": "code",
      "metadata": {
        "id": "aiqrjXyE_7Z5"
      },
      "source": [
        "!cp /content/drive/MyDrive/Totallity/images"
      ],
      "execution_count": null,
      "outputs": []
    },
    {
      "cell_type": "markdown",
      "metadata": {
        "id": "YFQSge9YdpN4"
      },
      "source": [
        "**Training the model**"
      ]
    },
    {
      "cell_type": "code",
      "metadata": {
        "colab": {
          "base_uri": "https://localhost:8080/"
        },
        "id": "u2bDEZdCcgEy",
        "outputId": "99b555ac-a2f7-4bf8-b95a-9b4c59ae981a"
      },
      "source": [
        " \n",
        "with tf.device('/device:GPU:0'):\n",
        "      history=final_model.fit(training_set,validation_data =testing_set,epochs=500,callbacks=[callback])"
      ],
      "execution_count": null,
      "outputs": [
        {
          "output_type": "stream",
          "text": [
            "Epoch 1/500\n",
            "184/184 [==============================] - 61s 314ms/step - loss: 1.3996 - accuracy: 0.5226 - val_loss: 1.1978 - val_accuracy: 0.5801\n",
            "Epoch 2/500\n",
            "184/184 [==============================] - 56s 303ms/step - loss: 0.9779 - accuracy: 0.6595 - val_loss: 1.1781 - val_accuracy: 0.5878\n",
            "Epoch 3/500\n",
            "184/184 [==============================] - 56s 303ms/step - loss: 0.7807 - accuracy: 0.7346 - val_loss: 1.1319 - val_accuracy: 0.6077\n",
            "Epoch 4/500\n",
            "184/184 [==============================] - 60s 325ms/step - loss: 0.6184 - accuracy: 0.7992 - val_loss: 1.1135 - val_accuracy: 0.6166\n",
            "Epoch 5/500\n",
            "184/184 [==============================] - 57s 310ms/step - loss: 0.4926 - accuracy: 0.8553 - val_loss: 1.1269 - val_accuracy: 0.6187\n",
            "Epoch 6/500\n",
            "184/184 [==============================] - 56s 303ms/step - loss: 0.3871 - accuracy: 0.9022 - val_loss: 1.1442 - val_accuracy: 0.6220\n",
            "Epoch 7/500\n",
            "184/184 [==============================] - 55s 301ms/step - loss: 0.3019 - accuracy: 0.9367 - val_loss: 1.1351 - val_accuracy: 0.6240\n",
            "Epoch 8/500\n",
            "184/184 [==============================] - 55s 300ms/step - loss: 0.2404 - accuracy: 0.9578 - val_loss: 1.1488 - val_accuracy: 0.6235\n",
            "Epoch 9/500\n",
            "184/184 [==============================] - 57s 309ms/step - loss: 0.1884 - accuracy: 0.9759 - val_loss: 1.1619 - val_accuracy: 0.6337\n",
            "Epoch 10/500\n",
            "184/184 [==============================] - 55s 299ms/step - loss: 0.1476 - accuracy: 0.9856 - val_loss: 1.1818 - val_accuracy: 0.6368\n",
            "Epoch 11/500\n",
            "184/184 [==============================] - 55s 297ms/step - loss: 0.1201 - accuracy: 0.9915 - val_loss: 1.1918 - val_accuracy: 0.6348\n",
            "Epoch 12/500\n",
            "184/184 [==============================] - 55s 298ms/step - loss: 0.0959 - accuracy: 0.9964 - val_loss: 1.2238 - val_accuracy: 0.6327\n",
            "Epoch 13/500\n",
            "184/184 [==============================] - 56s 303ms/step - loss: 0.0777 - accuracy: 0.9983 - val_loss: 1.2277 - val_accuracy: 0.6350\n",
            "Epoch 14/500\n",
            "184/184 [==============================] - 59s 322ms/step - loss: 0.0637 - accuracy: 0.9986 - val_loss: 1.2520 - val_accuracy: 0.6360\n",
            "Epoch 15/500\n",
            "184/184 [==============================] - 57s 310ms/step - loss: 0.0540 - accuracy: 0.9993 - val_loss: 1.2587 - val_accuracy: 0.6391\n",
            "Epoch 16/500\n",
            "184/184 [==============================] - 55s 301ms/step - loss: 0.0449 - accuracy: 0.9995 - val_loss: 1.2828 - val_accuracy: 0.6388\n",
            "Epoch 17/500\n",
            "184/184 [==============================] - 55s 299ms/step - loss: 0.0375 - accuracy: 0.9996 - val_loss: 1.3010 - val_accuracy: 0.6340\n",
            "Epoch 18/500\n",
            "184/184 [==============================] - 55s 302ms/step - loss: 0.0324 - accuracy: 0.9995 - val_loss: 1.2966 - val_accuracy: 0.6335\n",
            "Epoch 19/500\n",
            "184/184 [==============================] - 56s 302ms/step - loss: 0.0286 - accuracy: 0.9994 - val_loss: 1.3447 - val_accuracy: 0.6376\n",
            "Epoch 20/500\n",
            "184/184 [==============================] - 55s 301ms/step - loss: 0.0256 - accuracy: 0.9995 - val_loss: 1.3518 - val_accuracy: 0.6411\n",
            "Epoch 21/500\n",
            "184/184 [==============================] - 56s 305ms/step - loss: 0.0215 - accuracy: 0.9993 - val_loss: 1.3591 - val_accuracy: 0.6404\n",
            "Epoch 22/500\n",
            "184/184 [==============================] - 55s 301ms/step - loss: 0.0188 - accuracy: 0.9996 - val_loss: 1.3858 - val_accuracy: 0.6371\n",
            "Epoch 23/500\n",
            "184/184 [==============================] - 57s 310ms/step - loss: 0.0184 - accuracy: 0.9994 - val_loss: 1.4094 - val_accuracy: 0.6381\n",
            "Epoch 24/500\n",
            "184/184 [==============================] - 58s 314ms/step - loss: 0.0161 - accuracy: 0.9995 - val_loss: 1.4095 - val_accuracy: 0.6422\n",
            "Epoch 25/500\n",
            "184/184 [==============================] - 55s 298ms/step - loss: 0.0151 - accuracy: 0.9992 - val_loss: 1.4129 - val_accuracy: 0.6401\n",
            "Epoch 26/500\n",
            "184/184 [==============================] - 55s 298ms/step - loss: 0.0131 - accuracy: 0.9994 - val_loss: 1.4631 - val_accuracy: 0.6419\n",
            "Epoch 27/500\n",
            "184/184 [==============================] - 56s 303ms/step - loss: 0.0109 - accuracy: 0.9996 - val_loss: 1.4619 - val_accuracy: 0.6414\n",
            "Epoch 28/500\n",
            "184/184 [==============================] - 56s 307ms/step - loss: 0.0110 - accuracy: 0.9993 - val_loss: 1.4778 - val_accuracy: 0.6376\n",
            "Epoch 29/500\n",
            "184/184 [==============================] - 55s 297ms/step - loss: 0.0102 - accuracy: 0.9993 - val_loss: 1.4807 - val_accuracy: 0.6345\n",
            "Epoch 30/500\n",
            "184/184 [==============================] - 55s 299ms/step - loss: 0.0104 - accuracy: 0.9995 - val_loss: 1.5007 - val_accuracy: 0.6422\n",
            "Epoch 31/500\n",
            "184/184 [==============================] - 55s 301ms/step - loss: 0.0103 - accuracy: 0.9993 - val_loss: 1.5320 - val_accuracy: 0.6330\n",
            "Epoch 32/500\n",
            "184/184 [==============================] - 56s 307ms/step - loss: 0.0083 - accuracy: 0.9993 - val_loss: 1.5332 - val_accuracy: 0.6480\n",
            "Epoch 33/500\n",
            "184/184 [==============================] - 58s 314ms/step - loss: 0.0089 - accuracy: 0.9995 - val_loss: 1.5469 - val_accuracy: 0.6455\n",
            "Epoch 34/500\n",
            "184/184 [==============================] - 57s 308ms/step - loss: 0.0073 - accuracy: 0.9995 - val_loss: 1.5904 - val_accuracy: 0.6348\n",
            "Epoch 35/500\n",
            "184/184 [==============================] - 56s 303ms/step - loss: 0.0084 - accuracy: 0.9995 - val_loss: 1.6085 - val_accuracy: 0.6325\n",
            "Epoch 36/500\n",
            "184/184 [==============================] - 56s 303ms/step - loss: 0.0093 - accuracy: 0.9992 - val_loss: 1.6038 - val_accuracy: 0.6411\n",
            "Epoch 37/500\n",
            "184/184 [==============================] - 55s 301ms/step - loss: 0.0075 - accuracy: 0.9992 - val_loss: 1.6479 - val_accuracy: 0.6330\n",
            "Epoch 38/500\n",
            "184/184 [==============================] - 56s 305ms/step - loss: 0.0067 - accuracy: 0.9995 - val_loss: 1.6403 - val_accuracy: 0.6440\n",
            "Epoch 39/500\n",
            "184/184 [==============================] - 56s 303ms/step - loss: 0.0069 - accuracy: 0.9994 - val_loss: 1.6308 - val_accuracy: 0.6355\n",
            "Epoch 40/500\n",
            "184/184 [==============================] - 55s 301ms/step - loss: 0.0054 - accuracy: 0.9995 - val_loss: 1.6587 - val_accuracy: 0.6432\n",
            "Epoch 41/500\n",
            "184/184 [==============================] - 55s 297ms/step - loss: 0.0065 - accuracy: 0.9994 - val_loss: 1.6709 - val_accuracy: 0.6381\n",
            "Epoch 42/500\n",
            "184/184 [==============================] - 54s 294ms/step - loss: 0.0078 - accuracy: 0.9992 - val_loss: 1.7155 - val_accuracy: 0.6322\n",
            "Epoch 43/500\n",
            "184/184 [==============================] - 58s 317ms/step - loss: 0.0058 - accuracy: 0.9995 - val_loss: 1.7385 - val_accuracy: 0.6460\n",
            "Epoch 44/500\n",
            "184/184 [==============================] - 58s 313ms/step - loss: 0.0079 - accuracy: 0.9992 - val_loss: 1.7186 - val_accuracy: 0.6470\n",
            "Epoch 45/500\n",
            "184/184 [==============================] - 55s 297ms/step - loss: 0.0051 - accuracy: 0.9991 - val_loss: 1.7683 - val_accuracy: 0.6417\n",
            "Epoch 46/500\n",
            "184/184 [==============================] - 55s 298ms/step - loss: 0.0054 - accuracy: 0.9996 - val_loss: 1.7633 - val_accuracy: 0.6452\n",
            "Epoch 47/500\n",
            "184/184 [==============================] - 55s 300ms/step - loss: 0.0064 - accuracy: 0.9991 - val_loss: 1.7826 - val_accuracy: 0.6401\n",
            "Epoch 48/500\n",
            "184/184 [==============================] - 55s 301ms/step - loss: 0.0444 - accuracy: 0.9863 - val_loss: 1.8457 - val_accuracy: 0.6072\n",
            "Epoch 49/500\n",
            "184/184 [==============================] - 57s 308ms/step - loss: 0.0126 - accuracy: 0.9982 - val_loss: 1.7369 - val_accuracy: 0.6419\n",
            "Epoch 50/500\n",
            "184/184 [==============================] - 56s 306ms/step - loss: 0.0060 - accuracy: 0.9994 - val_loss: 1.7749 - val_accuracy: 0.6450\n",
            "Epoch 51/500\n",
            "184/184 [==============================] - 56s 304ms/step - loss: 0.0038 - accuracy: 0.9995 - val_loss: 1.8542 - val_accuracy: 0.6429\n",
            "Epoch 52/500\n",
            "184/184 [==============================] - 55s 301ms/step - loss: 0.0041 - accuracy: 0.9995 - val_loss: 1.8545 - val_accuracy: 0.6432\n",
            "Epoch 53/500\n",
            "184/184 [==============================] - 59s 319ms/step - loss: 0.0038 - accuracy: 0.9995 - val_loss: 1.8511 - val_accuracy: 0.6409\n",
            "Epoch 54/500\n",
            "184/184 [==============================] - 58s 313ms/step - loss: 0.0043 - accuracy: 0.9994 - val_loss: 1.8764 - val_accuracy: 0.6429\n"
          ],
          "name": "stdout"
        }
      ]
    },
    {
      "cell_type": "markdown",
      "metadata": {
        "id": "H4ofVOg8duwn"
      },
      "source": [
        "**Error Plot**"
      ]
    },
    {
      "cell_type": "code",
      "metadata": {
        "colab": {
          "base_uri": "https://localhost:8080/",
          "height": 295
        },
        "id": "CDrjNHGCcjGC",
        "outputId": "0fb7313f-dedd-4aa8-e321-1f58f0e3b3c5"
      },
      "source": [
        "plt.plot(history.history['loss'])\n",
        "plt.plot(history.history['val_loss'])\n",
        "plt.title('model loss')\n",
        "plt.ylabel('loss')\n",
        "plt.xlabel('epoch')\n",
        "plt.legend(['train', 'test'], loc='upper left')\n",
        "plt.show()"
      ],
      "execution_count": null,
      "outputs": [
        {
          "output_type": "display_data",
          "data": {
            "image/png": "[encoded data removed]",
            "text/plain": [
              "<Figure size 432x288 with 1 Axes>"
            ]
          },
          "metadata": {
            "tags": [],
            "needs_background": "light"
          }
        }
      ]
    },
    {
      "cell_type": "markdown",
      "metadata": {
        "id": "OjqMJqpsd2ZI"
      },
      "source": [
        "**Saving the model**\n"
      ]
    },
    {
      "cell_type": "code",
      "metadata": {
        "id": "P1WoLtHAcxd_"
      },
      "source": [
        "save_model(final_model,'final_model.h5')\n",
        "final_model.save('final_model.h5')"
      ],
      "execution_count": null,
      "outputs": []
    },
    {
      "cell_type": "code",
      "metadata": {
        "id": "GF7MN44KwxD0"
      },
      "source": [
        "test_model=load_model('final_model.h5')"
      ],
      "execution_count": null,
      "outputs": []
    },
    {
      "cell_type": "code",
      "metadata": {
        "id": "kckvyuGZcrDg"
      },
      "source": [
        "def predict(address):\n",
        "    test_image=load_img(address,target_size=(150,150))\n",
        "    test_image=img_to_array(test_image)\n",
        "    test_image= np.expand_dims(test_image,axis=0)\n",
        "    result=test_model.predict(test_image)\n",
        "    result=np.round(result)\n",
        "    for i in range(1,10):\n",
        "        if result[0][i]==1:\n",
        "          prediction=i\n",
        "        else  \n",
        "           prediction =  \n",
        "          return prediction  \n",
        "    "
      ],
      "execution_count": null,
      "outputs": []
    },
    {
      "cell_type": "code",
      "metadata": {
        "id": "z4PoJWwLgrMw"
      },
      "source": [
        "test_directory =\"/content/drive/MyDrive/Totallity/test/\"\n",
        "pred_dir =\"/content/drive/MyDrive/Totallity/\"\n",
        "pred =[]\n",
        "act =[]\n",
        "for cls,cls_name in enumerate(os.listdir(test_directory)):\n",
        "      \n",
        "      if not os.path.exists(pred_dir+'/actual/' + cls_name):\n",
        "        os.makedirs(pred_dir+'/actual/' + cls_name)\n",
        "      if not os.path.exists(pred_dir+'/predicted/' + cls_name):\n",
        "        os.makedirs(pred_dir+'/predicted/' + cls_name)  \n",
        "      #os.makedirs(pred_dir+'/actual/' + cls_name)\n",
        "      #os.makedirs(pred_dir+'/predicted/' + cls_name)\n",
        "      file_names =os.listdir(test_directory + cls_name)\n",
        "      for file in file_names:\n",
        "        prediction =predict(test_directory + cls_name +\"/\"+ file)\n",
        "        pred.append(prediction)\n",
        "        act.append(cls)\n",
        "      \n",
        "      #pd.DataFrame(np.array(pred)).to_csv(pred_dir+'/predicted/' + cls_name+\"/\"+\"pred.csv\",header=None,index=False)  \n",
        "      #pd.DataFrame(np.array(act)).to_csv(pred_dir+'/actual/' + cls_name+\"/\"+\"act.csv\",header =None,index=False)  \n",
        "        "
      ],
      "execution_count": null,
      "outputs": []
    },
    {
      "cell_type": "code",
      "metadata": {
        "colab": {
          "base_uri": "https://localhost:8080/"
        },
        "id": "DL8RvRg250X8",
        "outputId": "4e20cf8d-1f26-4cc8-adac-eb41784f9e6b"
      },
      "source": [
        "from collections import Counter\n",
        "\n",
        "Counter(pred)"
      ],
      "execution_count": null,
      "outputs": [
        {
          "output_type": "execute_result",
          "data": {
            "text/plain": [
              "Counter({3: 34, 4: 770, 5: 2556, 7: 540, None: 18})"
            ]
          },
          "metadata": {
            "tags": []
          },
          "execution_count": 156
        }
      ]
    },
    {
      "cell_type": "code",
      "metadata": {
        "colab": {
          "base_uri": "https://localhost:8080/"
        },
        "id": "Jn7hfdBz5lkT",
        "outputId": "4edab95d-fc32-4dcb-d65e-de6350e9816b"
      },
      "source": [
        "act.count('Nan')"
      ],
      "execution_count": null,
      "outputs": [
        {
          "output_type": "execute_result",
          "data": {
            "text/plain": [
              "0"
            ]
          },
          "metadata": {
            "tags": []
          },
          "execution_count": 152
        }
      ]
    },
    {
      "cell_type": "code",
      "metadata": {
        "colab": {
          "base_uri": "https://localhost:8080/"
        },
        "id": "fkdkIpJV5oQj",
        "outputId": "1f5ebb61-10be-41ba-c31e-275cb1652df9"
      },
      "source": [
        "pred.count(\"\")"
      ],
      "execution_count": null,
      "outputs": [
        {
          "output_type": "execute_result",
          "data": {
            "text/plain": [
              "0"
            ]
          },
          "metadata": {
            "tags": []
          },
          "execution_count": 159
        }
      ]
    },
    {
      "cell_type": "code",
      "metadata": {
        "colab": {
          "base_uri": "https://localhost:8080/",
          "height": 134
        },
        "id": "Kjxy9GYx42X0",
        "outputId": "b33fa30a-4a20-4f2e-8fe6-36b3af2cd08f"
      },
      "source": [
        "import math\n",
        "count[math.isnan(i) for i in act]\n",
        "act."
      ],
      "execution_count": null,
      "outputs": [
        {
          "output_type": "error",
          "ename": "SyntaxError",
          "evalue": "ignored",
          "traceback": [
            "\u001b[0;36m  File \u001b[0;32m\"<ipython-input-148-45ac1abcb52b>\"\u001b[0;36m, line \u001b[0;32m2\u001b[0m\n\u001b[0;31m    count[math.isnan(i) for i in act]\u001b[0m\n\u001b[0m                          ^\u001b[0m\n\u001b[0;31mSyntaxError\u001b[0m\u001b[0;31m:\u001b[0m invalid syntax\n"
          ]
        }
      ]
    },
    {
      "cell_type": "code",
      "metadata": {
        "id": "bGSRHwwk34CK"
      },
      "source": [
        "y_true =np.array(act)\n",
        "y_pred= np.array(pred)\n"
      ],
      "execution_count": null,
      "outputs": []
    },
    {
      "cell_type": "code",
      "metadata": {
        "colab": {
          "base_uri": "https://localhost:8080/",
          "height": 322
        },
        "id": "3-hpPE8T3lt1",
        "outputId": "535d7307-74ec-4f86-f469-bb2ef17ac393"
      },
      "source": [
        "roc_auc_score(y_true, y_pred)"
      ],
      "execution_count": null,
      "outputs": [
        {
          "output_type": "error",
          "ename": "ValueError",
          "evalue": "ignored",
          "traceback": [
            "\u001b[0;31m---------------------------------------------------------------------------\u001b[0m",
            "\u001b[0;31mValueError\u001b[0m                                Traceback (most recent call last)",
            "\u001b[0;32m<ipython-input-153-59ac9838bd4a>\u001b[0m in \u001b[0;36m<module>\u001b[0;34m()\u001b[0m\n\u001b[0;32m----> 1\u001b[0;31m \u001b[0mroc_auc_score\u001b[0m\u001b[0;34m(\u001b[0m\u001b[0my_true\u001b[0m\u001b[0;34m,\u001b[0m \u001b[0my_pred\u001b[0m\u001b[0;34m)\u001b[0m\u001b[0;34m\u001b[0m\u001b[0;34m\u001b[0m\u001b[0m\n\u001b[0m",
            "\u001b[0;32m/usr/local/lib/python3.7/dist-packages/sklearn/metrics/_ranking.py\u001b[0m in \u001b[0;36mroc_auc_score\u001b[0;34m(y_true, y_score, average, sample_weight, max_fpr, multi_class, labels)\u001b[0m\n\u001b[1;32m    367\u001b[0m     \u001b[0my_type\u001b[0m \u001b[0;34m=\u001b[0m \u001b[0mtype_of_target\u001b[0m\u001b[0;34m(\u001b[0m\u001b[0my_true\u001b[0m\u001b[0;34m)\u001b[0m\u001b[0;34m\u001b[0m\u001b[0;34m\u001b[0m\u001b[0m\n\u001b[1;32m    368\u001b[0m     \u001b[0my_true\u001b[0m \u001b[0;34m=\u001b[0m \u001b[0mcheck_array\u001b[0m\u001b[0;34m(\u001b[0m\u001b[0my_true\u001b[0m\u001b[0;34m,\u001b[0m \u001b[0mensure_2d\u001b[0m\u001b[0;34m=\u001b[0m\u001b[0;32mFalse\u001b[0m\u001b[0;34m,\u001b[0m \u001b[0mdtype\u001b[0m\u001b[0;34m=\u001b[0m\u001b[0;32mNone\u001b[0m\u001b[0;34m)\u001b[0m\u001b[0;34m\u001b[0m\u001b[0;34m\u001b[0m\u001b[0m\n\u001b[0;32m--> 369\u001b[0;31m     \u001b[0my_score\u001b[0m \u001b[0;34m=\u001b[0m \u001b[0mcheck_array\u001b[0m\u001b[0;34m(\u001b[0m\u001b[0my_score\u001b[0m\u001b[0;34m,\u001b[0m \u001b[0mensure_2d\u001b[0m\u001b[0;34m=\u001b[0m\u001b[0;32mFalse\u001b[0m\u001b[0;34m)\u001b[0m\u001b[0;34m\u001b[0m\u001b[0;34m\u001b[0m\u001b[0m\n\u001b[0m\u001b[1;32m    370\u001b[0m \u001b[0;34m\u001b[0m\u001b[0m\n\u001b[1;32m    371\u001b[0m     if y_type == \"multiclass\" or (y_type == \"binary\" and\n",
            "\u001b[0;32m/usr/local/lib/python3.7/dist-packages/sklearn/utils/validation.py\u001b[0m in \u001b[0;36mcheck_array\u001b[0;34m(array, accept_sparse, accept_large_sparse, dtype, order, copy, force_all_finite, ensure_2d, allow_nd, ensure_min_samples, ensure_min_features, warn_on_dtype, estimator)\u001b[0m\n\u001b[1;32m    576\u001b[0m         \u001b[0;32mif\u001b[0m \u001b[0mforce_all_finite\u001b[0m\u001b[0;34m:\u001b[0m\u001b[0;34m\u001b[0m\u001b[0;34m\u001b[0m\u001b[0m\n\u001b[1;32m    577\u001b[0m             _assert_all_finite(array,\n\u001b[0;32m--> 578\u001b[0;31m                                allow_nan=force_all_finite == 'allow-nan')\n\u001b[0m\u001b[1;32m    579\u001b[0m \u001b[0;34m\u001b[0m\u001b[0m\n\u001b[1;32m    580\u001b[0m     \u001b[0;32mif\u001b[0m \u001b[0mensure_min_samples\u001b[0m \u001b[0;34m>\u001b[0m \u001b[0;36m0\u001b[0m\u001b[0;34m:\u001b[0m\u001b[0;34m\u001b[0m\u001b[0;34m\u001b[0m\u001b[0m\n",
            "\u001b[0;32m/usr/local/lib/python3.7/dist-packages/sklearn/utils/validation.py\u001b[0m in \u001b[0;36m_assert_all_finite\u001b[0;34m(X, allow_nan, msg_dtype)\u001b[0m\n\u001b[1;32m     58\u001b[0m                     \u001b[0mmsg_err\u001b[0m\u001b[0;34m.\u001b[0m\u001b[0mformat\u001b[0m\u001b[0;34m\u001b[0m\u001b[0;34m\u001b[0m\u001b[0m\n\u001b[1;32m     59\u001b[0m                     (type_err,\n\u001b[0;32m---> 60\u001b[0;31m                      msg_dtype if msg_dtype is not None else X.dtype)\n\u001b[0m\u001b[1;32m     61\u001b[0m             )\n\u001b[1;32m     62\u001b[0m     \u001b[0;31m# for object dtype data, we only check for NaNs (GH-13254)\u001b[0m\u001b[0;34m\u001b[0m\u001b[0;34m\u001b[0m\u001b[0;34m\u001b[0m\u001b[0m\n",
            "\u001b[0;31mValueError\u001b[0m: Input contains NaN, infinity or a value too large for dtype('float64')."
          ]
        }
      ]
    },
    {
      "cell_type": "code",
      "metadata": {
        "id": "fgF4TeKVzM6g"
      },
      "source": [
        "roc_auc_score(y_true, y_pred)"
      ],
      "execution_count": null,
      "outputs": []
    },
    {
      "cell_type": "code",
      "metadata": {
        "id": "At8rl1byZ_mB"
      },
      "source": [
        ""
      ],
      "execution_count": null,
      "outputs": []
    }
  ]
}